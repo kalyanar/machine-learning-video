{
 "metadata": {
  "name": "",
  "signature": "sha256:e91747b1d016f6bcd7d9fe6ca240bc3e1b62651f56ccb19ca11f7d249407e9f4"
 },
 "nbformat": 3,
 "nbformat_minor": 0,
 "worksheets": [
  {
   "cells": [
    {
     "cell_type": "markdown",
     "metadata": {},
     "source": [
      "# Introduction to k-means clustering (7 min)\n",
      "\n",
      "- What is k-means clustering?\n",
      "    - High level and then more in-depth\n",
      "- When do you want to use k-means clustering?\n",
      "- When do you not?\n",
      "\n",
      "# Example of kmeans (8 min)\n",
      "\n",
      "- ex. (in other notebook)\n",
      "\n",
      "# How to choose k (7 min)\n",
      "\n",
      "- The problem of choosing k\n",
      "- Graphing the variance\n",
      "- Information criteron\n",
      "- Cross-validation\n",
      "- ex. (in other notebook)\n",
      "\n",
      "# Tuning the parameters of k-means (9 min)\n",
      "\n",
      "- ex. (in other notebook)\n",
      "\n",
      "# Evaluating our models (6 min)\n",
      "\n",
      "- ex. (in other notebook)\n",
      "\n",
      "# Wrap up (1 min)\n",
      "\n",
      "- What did we learn?"
     ]
    }
   ],
   "metadata": {}
  }
 ]
}