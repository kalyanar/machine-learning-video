{
 "metadata": {
  "name": "",
  "signature": "sha256:bf50fcfafb33434746975bb46b1fb075ceaac3b21adf4778d0f7cdee70c50d19"
 },
 "nbformat": 3,
 "nbformat_minor": 0,
 "worksheets": [
  {
   "cells": [
    {
     "cell_type": "markdown",
     "metadata": {},
     "source": [
      "# Environment Setup (10 min)\n",
      "\n",
      "- Installing scikit-learn\n",
      "    - Walk through installing on Mac\n",
      "    - Mention solutions for Windows and Linux\n",
      "    - Anaconda or Enthought\n",
      "    - Installing without Anaconda\n",
      "- Using IPython notebook\n",
      "    - What is IPython notebook?\n",
      "    - What is it good for?\n",
      "        - Presentations, demonstrations, incorporating code, text, and visualizations all in one place\n",
      "    - Demonstrate how to launch it\n",
      "- Other tools\n",
      "    - NumPy\n",
      "    - Pandas\n",
      "    - Matplotlib"
     ]
    }
   ],
   "metadata": {}
  }
 ]
}