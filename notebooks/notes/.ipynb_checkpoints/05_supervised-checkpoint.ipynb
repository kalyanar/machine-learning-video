{
 "metadata": {
  "name": "",
  "signature": "sha256:edb6a19a1dcaef0681c618dc200932c55fd12fd0a34981440cc3fd74c41d2b50"
 },
 "nbformat": 3,
 "nbformat_minor": 0,
 "worksheets": [
  {
   "cells": [
    {
     "cell_type": "markdown",
     "metadata": {},
     "source": [
      "# What is supervised learning? (8 min)\n",
      "\n",
      "- Again, labeled data/know what you\u2019re looking for\n",
      "- What does supervised learning have to offer?\n",
      "    - Pros and cons\n",
      "- When would you use it?\n",
      "- What are some real-world examples of supervised learning?\n",
      "    - Email spam\n",
      "    - Netflix\n",
      "    - Handwriting analysis\n",
      "    - Applications in the sciences\n",
      "    - Applications in finance\n",
      "- Different types of supervised learning\n",
      "\n",
      "# What are classification and regression? (12 min)\n",
      "\n",
      "- Classification\n",
      "    - What problem does classification try to solve?\n",
      "        - classifying data into categories\n",
      "    - Random forests, kNN, NB, SVM, etc etc\n",
      "    - Which algorithm to use for classification?\n",
      "    - We'll focus on random forests\n",
      "- Regression\n",
      "    - What problem does regression try to solve?\n",
      "        - Predict real numbers\n",
      "    - LS, lasso, ridge, etc\n",
      "    - We'll talk about those"
     ]
    },
    {
     "cell_type": "code",
     "collapsed": false,
     "input": [],
     "language": "python",
     "metadata": {},
     "outputs": []
    }
   ],
   "metadata": {}
  }
 ]
}