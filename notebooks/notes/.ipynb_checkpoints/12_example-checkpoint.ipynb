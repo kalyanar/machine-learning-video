{
 "metadata": {
  "name": "",
  "signature": "sha256:5b41dce93946483ff1f0ae507135e4c0cea2112d238cb25c49c767255c846d66"
 },
 "nbformat": 3,
 "nbformat_minor": 0,
 "worksheets": [
  {
   "cells": [
    {
     "cell_type": "markdown",
     "metadata": {},
     "source": [
      "# Part 1: Set up the problem (8 min)\n",
      "\n",
      "- ex. (in other notebook)\n",
      "\n",
      "# Part 2: Preprocessing (8 min)\n",
      "\n",
      "- ex. (in other notebook)\n",
      "\n",
      "# Part 3: Build a random forests model (10 min)\n",
      "\n",
      "- ex. (in other notebook)\n",
      "\n",
      "# Part 4: Evaluate (6 min)\n",
      "\n",
      "- ex. (in other notebook)\n",
      "\n",
      "# Wrap up (1 min)\n",
      "\n",
      "- Recap everything"
     ]
    }
   ],
   "metadata": {}
  }
 ]
}