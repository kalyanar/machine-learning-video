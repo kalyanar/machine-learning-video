{
 "metadata": {
  "name": "",
  "signature": "sha256:b6086c0bf54889095ccedda679fde9645a2f00e21339ad9ef83ba7e75b3d1e62"
 },
 "nbformat": 3,
 "nbformat_minor": 0,
 "worksheets": [
  {
   "cells": [
    {
     "cell_type": "markdown",
     "metadata": {},
     "source": [
      "# Introduction to model evaluation (6 min)\n",
      "\n",
      "- What is model evaluation?\n",
      "- Why is it important? \n",
      "- Model evaluation as part of the machine learning process\n",
      "\n",
      "# Model evaluation methods (10 min)\n",
      "\n",
      "- Recap the methods already discussed. \n",
      "- Other methods\n",
      "    - precision\n",
      "        - ex. (in other notebook)\n",
      "    - recall\n",
      "        - ex. (in other notebook)\n",
      "    - grid search\n",
      "        - ex. (in other notebook)\n",
      "    - confusion matrix\n",
      "        - ex. (in other notebook)"
     ]
    }
   ],
   "metadata": {}
  }
 ]
}