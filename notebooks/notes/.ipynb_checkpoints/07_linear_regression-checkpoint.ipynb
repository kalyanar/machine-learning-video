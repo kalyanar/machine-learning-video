{
 "metadata": {
  "name": "",
  "signature": "sha256:ae40ab4806da8014ad31dbd8bcb4d788fcf0ec5eaf70f655a3c4bf9e7bc0d192"
 },
 "nbformat": 3,
 "nbformat_minor": 0,
 "worksheets": [
  {
   "cells": [
    {
     "cell_type": "markdown",
     "metadata": {},
     "source": [
      "# Introduction to linear regression (5 min)\n",
      "\n",
      "- What is linear regression? \n",
      "- Explain the underlying concepts of linear regression\n",
      "    - High level then in-depth\n",
      "- When do you want to use linear regression?\n",
      "- When don't you?\n",
      "- Different kinds\n",
      "- Example\n",
      "\n",
      "# Example of linear regression (6 min)\n",
      "\n",
      "- ex. (in other notebook)\n",
      "\n",
      "# Example of ridge regression (10 min)\n",
      "\n",
      "- What is ridge regression?\n",
      "- ex. (in other notebook)\n",
      "\n",
      "# Example of lasso regression (10 min)\n",
      "\n",
      "- What is lasso regression?\n",
      "- ex. (in other notebook)\n",
      "\n",
      "# Comparing models (6 min)\n",
      "\n",
      "- ex. (in other notebook)\n",
      "\n",
      "# Wrap up (1 min)\n",
      "\n",
      "- What did we learn in this section"
     ]
    }
   ],
   "metadata": {}
  }
 ]
}