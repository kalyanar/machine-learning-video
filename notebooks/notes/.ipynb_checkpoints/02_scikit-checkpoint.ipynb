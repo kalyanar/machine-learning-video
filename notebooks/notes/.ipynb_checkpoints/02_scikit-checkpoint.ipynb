{
 "metadata": {
  "name": "",
  "signature": "sha256:2f61a52763065b8aa2201b862410df472fdc2748f714188bde93587d5bef8fcf"
 },
 "nbformat": 3,
 "nbformat_minor": 0,
 "worksheets": [
  {
   "cells": [
    {
     "cell_type": "markdown",
     "metadata": {},
     "source": [
      "# What is scikit-learn? (10 min)\n",
      "\n",
      "- Scikit-learn\n",
      "    - Machine learning module\n",
      "    - Built on NumPy and SciPy\n",
      "    - Open-source\n",
      "    - Constant development\n",
      "    - Built-in datasets\n",
      "    - Good resources for learning\n",
      "- Origins\n",
      "    - Started as a Google Summer of Code project 2007\n",
      "    - Taken up by a larger community in 2010\n",
      "    - Active development continues by an international community\n",
      "- Who uses scikit-learn?\n",
      "    - Lots of people! Scikit-learn in a favorite tool of scientific researchers: astronomy, biology, etc\n",
      "    - Spotify, OkCupid, Evernote, yhat, change.org are just some of the companies using scikit-learn in production\n",
      "- Basic learning and predicting process\n",
      "    - pretty easy to get started\n",
      "    - Model = EstimatorObject()\n",
      "    - Model.fit(dataset.data, dataset.target)\n",
      "        - dataset.data = dataset\n",
      "        - dataset.target = labels\n",
      "    - Model.predict(dataset.data)\n",
      "- Code samples"
     ]
    },
    {
     "cell_type": "code",
     "collapsed": false,
     "input": [
      "from sklearn import #something"
     ],
     "language": "python",
     "metadata": {},
     "outputs": []
    }
   ],
   "metadata": {}
  }
 ]
}