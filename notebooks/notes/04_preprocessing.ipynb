{
 "metadata": {
  "name": "",
  "signature": "sha256:c1a211c36c38cb7c7aab6fb9212cb789d88247ca2a8734b843c8cbaf4bdc6b30"
 },
 "nbformat": 3,
 "nbformat_minor": 0,
 "worksheets": [
  {
   "cells": [
    {
     "cell_type": "markdown",
     "metadata": {},
     "source": [
      "# Data Preprocessing (10 minutes)\n",
      "\n",
      "- Importance of data preprocessing\n",
      "    - Scikit-learn takes in continuous data only!\n",
      "- Loading data within scikit-learn\n",
      "    - Built-in datasets\n",
      "        - ex. (other notebook)\n",
      "    - ml-data\n",
      "        - ex. (other notebook)\n",
      "    - 20 newsgroups\n",
      "        - ex. (other notebook)\n",
      "- Loading data from outside scikit-learn\n",
      "    - From file\n",
      "        - ex. (other notebook)\n",
      "    - From Pandas\n",
      "        - ex. (other notebook)\n",
      "- Preprocessing strategies\n",
      "    - Encode categorical features and labels\n",
      "        - How does it work?\n",
      "            - Arrays of 1s and 0s based on position\n",
      "            - ex. (slide)\n",
      "        - ex. (other notebook)"
     ]
    },
    {
     "cell_type": "code",
     "collapsed": false,
     "input": [],
     "language": "python",
     "metadata": {},
     "outputs": []
    }
   ],
   "metadata": {}
  }
 ]
}