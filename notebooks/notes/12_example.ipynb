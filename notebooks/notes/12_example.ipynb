{
 "metadata": {
  "name": "",
  "signature": "sha256:1329027226d841b51b41cd4a30ab379e07a31c8087b8b826d2c1aac89841253d"
 },
 "nbformat": 3,
 "nbformat_minor": 0,
 "worksheets": [
  {
   "cells": [
    {
     "cell_type": "markdown",
     "metadata": {},
     "source": [
      "# Part 1: Set up the problem (8 min)\n",
      "\n",
      "- Explain the dataset\n",
      "- What are we trying to solve?\n",
      "\n",
      "# Part 2: Preprocessing (8 min)\n",
      "\n",
      "- ex. (in other notebook)\n",
      "\n",
      "# Part 3: Build a random forests model (10 min)\n",
      "\n",
      "- ex. (in other notebook)\n",
      "\n",
      "# Part 4: Evaluate (6 min)\n",
      "\n",
      "- ex. (in other notebook)\n",
      "\n",
      "# Wrap up (1 min)\n",
      "\n",
      "- Recap everything"
     ]
    }
   ],
   "metadata": {}
  }
 ]
}