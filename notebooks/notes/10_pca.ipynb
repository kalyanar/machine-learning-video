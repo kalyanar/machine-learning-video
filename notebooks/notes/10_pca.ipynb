{
 "metadata": {
  "name": "",
  "signature": "sha256:dc5d638e61ed5927f266652184079c07f2411fd346cd20a7cc92cea551aa639f"
 },
 "nbformat": 3,
 "nbformat_minor": 0,
 "worksheets": [
  {
   "cells": [
    {
     "cell_type": "markdown",
     "metadata": {},
     "source": [
      "# Introduction to principal component analysis (7 min)\n",
      "\n",
      "- What is principal component analysis (PCA)?\n",
      "    - High level and then more in-depth\n",
      "- The curse of dimensionality\n",
      "- When do you want to use PCA?\n",
      "- When do you not?\n",
      "\n",
      "# Example of PCA (12 min)\n",
      "\n",
      "- ex. (in other notebook)\n",
      "\n",
      "# Tuning parameters (7 min)\n",
      "\n",
      "- ex. (in other notebook)\n",
      "\n",
      "# Evaluation of PCA models (6 min)\n",
      "\n",
      "- ex. (in other notebook)\n",
      "\n",
      "# Wrap up (1 min)\n",
      "\n",
      "- What did we learn in this section?"
     ]
    }
   ],
   "metadata": {}
  }
 ]
}