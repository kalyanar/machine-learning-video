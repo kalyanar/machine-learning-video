{
 "metadata": {
  "name": "",
  "signature": "sha256:15a4ef2dd98eec237bdab23822c0246d3d5a9a917fcc9bf7eb1ea138855c6992"
 },
 "nbformat": 3,
 "nbformat_minor": 0,
 "worksheets": [
  {
   "cells": [
    {
     "cell_type": "markdown",
     "metadata": {},
     "source": [
      "# Introduction to random forests (10 min)\n",
      "\n",
      "- What are random forests? \n",
      "- Explain how random forests are ensembles of decision trees \n",
      "    - High level and then more in-depth\n",
      "- Explain decision trees\n",
      "- When do you want to use random forests?\n",
      "- When do you not?\n",
      "\n",
      "# Example of random forests in scikit-learn (12 min)\n",
      "\n",
      "- ex. (in other notebook)\n",
      "\n",
      "# Tuning parameters (6 min)\n",
      "\n",
      "- ex. (in other notebook)\n",
      "\n",
      "# Evaluating our model (6 min)\n",
      "\n",
      "- ex. (in other notebook)\n",
      "\n",
      "# Wrap up (1 min)\n",
      "\n",
      "- In this section, what did we learn?"
     ]
    },
    {
     "cell_type": "code",
     "collapsed": false,
     "input": [],
     "language": "python",
     "metadata": {},
     "outputs": []
    }
   ],
   "metadata": {}
  }
 ]
}