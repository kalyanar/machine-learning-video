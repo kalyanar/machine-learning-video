{
 "metadata": {
  "name": "",
  "signature": "sha256:d50d5e880421f6b9bb55dd7f536991dc06d1ebb995cc34eda33ed62afb5dc75a"
 },
 "nbformat": 3,
 "nbformat_minor": 0,
 "worksheets": [
  {
   "cells": [
    {
     "cell_type": "markdown",
     "metadata": {},
     "source": [
      "# Part 1: Set up the problem (8 min)\n",
      "\n",
      "- We're now going to walk through an example from start to finish, starting with preprocessing and ending with evaluation.\n",
      "- This is a dataset of census data that classifies each person in the set as either making > 50k a year or < 50k a year, based on features like age, occupation, race, sex, marital status, hours worked per week, and so on. \n",
      "- I got this dataset from the UCI Machine Learning Repository website, which I'll link to at the end in the resources section\n",
      "- This dataset consists of both categorical data, like race and sex, as well as continuous data, like age and hours worked per week, so it's a good candidate for our random forests classifier, which deals well with heterogeneous data.\n",
      "- We also have 14 features, so we're going to try running pca on the data to see what happens to our dataset\n",
      "- We're working with about 2k rows of data, so this is going to run a bit more slowly than the other datasets\n",
      "- This is, ultimately, a simple example. You would want to spend time figuring out \n",
      "\n",
      "# Part 2: Preprocessing (8 min)"
     ]
    },
    {
     "cell_type": "code",
     "collapsed": false,
     "input": [
      "import csv\n",
      "\n",
      "census_data = list(csv.DictReader(open('../data/census_data.csv', 'rU')))\n",
      "census_target = list(csv.reader(open('../data/census_target.csv', 'rU')))\n",
      "\n",
      "census_data[10], census_target[10]"
     ],
     "language": "python",
     "metadata": {},
     "outputs": [
      {
       "metadata": {},
       "output_type": "pyout",
       "prompt_number": 1,
       "text": [
        "({'age': '31',\n",
        "  'capital_gain': '0',\n",
        "  'capital_loss': '0',\n",
        "  'country': '?',\n",
        "  'education': 'Some-college',\n",
        "  'education_num': '10',\n",
        "  'fnlwgt': '84154',\n",
        "  'hours_per_week': '38',\n",
        "  'marital_status': 'Married-civ-spouse',\n",
        "  'occupation': 'Sales',\n",
        "  'race': 'White',\n",
        "  'relationship': 'Husband',\n",
        "  'sex': 'Male',\n",
        "  'work_class': 'Private'},\n",
        " ['>50K'])"
       ]
      }
     ],
     "prompt_number": 1
    },
    {
     "cell_type": "code",
     "collapsed": false,
     "input": [
      "from sklearn.feature_extraction import DictVectorizer\n",
      "from sklearn.preprocessing import LabelBinarizer\n",
      "\n",
      "vec = DictVectorizer()\n",
      "census_data_vec = vec.fit_transform(census_data).toarray()\n",
      "\n",
      "binarize = LabelBinarizer()\n",
      "census_target_bin = binarize.fit_transform(census_target)\n",
      "\n",
      "census_data_vec[10], census_target_bin[10]"
     ],
     "language": "python",
     "metadata": {},
     "outputs": [
      {
       "output_type": "stream",
       "stream": "stderr",
       "text": [
        "/Users/Sarah/anaconda/lib/python2.7/site-packages/sklearn/utils/multiclass.py:194: DeprecationWarning: Direct support for sequence of sequences multilabel representation will be unavailable from version 0.17. Use sklearn.preprocessing.MultiLabelBinarizer to convert to a label indicator representation.\n",
        "  DeprecationWarning)\n"
       ]
      },
      {
       "metadata": {},
       "output_type": "pyout",
       "prompt_number": 2,
       "text": [
        "(array([ 0.,  0.,  0., ...,  0.,  0.,  0.]), array([0, 1]))"
       ]
      }
     ],
     "prompt_number": 2
    },
    {
     "cell_type": "code",
     "collapsed": false,
     "input": [
      "from sklearn.cross_validation import train_test_split\n",
      "\n",
      "x_train, x_test, y_train, y_test = train_test_split(census_data_vec, census_target_bin)"
     ],
     "language": "python",
     "metadata": {},
     "outputs": [],
     "prompt_number": 3
    },
    {
     "cell_type": "markdown",
     "metadata": {},
     "source": [
      "# Part 3: Build a random forests model (10 min)"
     ]
    },
    {
     "cell_type": "code",
     "collapsed": false,
     "input": [
      "from sklearn.ensemble import RandomForestClassifier\n",
      "\n",
      "trees = RandomForestClassifier()\n",
      "trees.fit(x_train, y_train)\n",
      "trees.predict(x_test)[:10]"
     ],
     "language": "python",
     "metadata": {},
     "outputs": [
      {
       "metadata": {},
       "output_type": "pyout",
       "prompt_number": 4,
       "text": [
        "array([[ 1.,  0.],\n",
        "       [ 0.,  1.],\n",
        "       [ 0.,  1.],\n",
        "       [ 0.,  1.],\n",
        "       [ 1.,  0.],\n",
        "       [ 1.,  0.],\n",
        "       [ 1.,  0.],\n",
        "       [ 0.,  1.],\n",
        "       [ 0.,  1.],\n",
        "       [ 1.,  0.]])"
       ]
      }
     ],
     "prompt_number": 4
    },
    {
     "cell_type": "code",
     "collapsed": false,
     "input": [
      "y_test[:10]"
     ],
     "language": "python",
     "metadata": {},
     "outputs": [
      {
       "metadata": {},
       "output_type": "pyout",
       "prompt_number": 5,
       "text": [
        "array([[1, 0],\n",
        "       [0, 1],\n",
        "       [1, 0],\n",
        "       [1, 0],\n",
        "       [0, 1],\n",
        "       [0, 1],\n",
        "       [1, 0],\n",
        "       [0, 1],\n",
        "       [1, 0],\n",
        "       [1, 0]])"
       ]
      }
     ],
     "prompt_number": 5
    },
    {
     "cell_type": "code",
     "collapsed": false,
     "input": [
      "trees_tuned = RandomForestClassifier(n_estimators=20, max_features=5, criterion='entropy')\n",
      "\n",
      "trees_tuned.fit(x_train, y_train)\n",
      "trees_tuned.predict(x_test)[:10]"
     ],
     "language": "python",
     "metadata": {},
     "outputs": [
      {
       "metadata": {},
       "output_type": "pyout",
       "prompt_number": 12,
       "text": [
        "array([[ 1.,  0.],\n",
        "       [ 0.,  1.],\n",
        "       [ 0.,  1.],\n",
        "       [ 0.,  0.],\n",
        "       [ 0.,  0.],\n",
        "       [ 1.,  0.],\n",
        "       [ 1.,  0.],\n",
        "       [ 0.,  1.],\n",
        "       [ 0.,  1.],\n",
        "       [ 1.,  0.]])"
       ]
      }
     ],
     "prompt_number": 12
    },
    {
     "cell_type": "code",
     "collapsed": false,
     "input": [
      "# pipeline: Sequentially apply a list of transforms and a final estimator. allows you to chain different objects together.\n",
      "# this will make using PCA on our dataset easier.\n",
      "from sklearn.decomposition import PCA\n",
      "from sklearn.pipeline import Pipeline\n",
      "\n",
      "tree_pipe = Pipeline([('pca', PCA()), ('random_forests', RandomForestClassifier())])\n",
      "tree_pipe.fit(x_train, y_train)\n",
      "tree_pipe.predict(x_test)[:10]"
     ],
     "language": "python",
     "metadata": {},
     "outputs": [
      {
       "metadata": {},
       "output_type": "pyout",
       "prompt_number": 16,
       "text": [
        "array([[ 0.,  1.],\n",
        "       [ 0.,  1.],\n",
        "       [ 0.,  1.],\n",
        "       [ 0.,  1.],\n",
        "       [ 0.,  1.],\n",
        "       [ 1.,  0.],\n",
        "       [ 1.,  0.],\n",
        "       [ 0.,  1.],\n",
        "       [ 0.,  1.],\n",
        "       [ 1.,  0.]])"
       ]
      }
     ],
     "prompt_number": 16
    },
    {
     "cell_type": "code",
     "collapsed": false,
     "input": [
      "#tree pipe tuned\n",
      "tree_pipe = Pipeline([('pca', PCA(n_components=5)), ('random_forests', RandomForestClassifier())])\n",
      "#etc etc"
     ],
     "language": "python",
     "metadata": {},
     "outputs": []
    },
    {
     "cell_type": "markdown",
     "metadata": {},
     "source": [
      "# Part 4: Evaluate (6 min)"
     ]
    },
    {
     "cell_type": "code",
     "collapsed": false,
     "input": [
      "from sklearn.cross_validation import cross_val_score\n",
      "\n",
      "# score them!\n",
      "cross_val_score(trees, census_data_vec, census_target_bin)"
     ],
     "language": "python",
     "metadata": {},
     "outputs": [
      {
       "metadata": {},
       "output_type": "pyout",
       "prompt_number": 9,
       "text": [
        "array([ 0.42598684,  0.74342105,  0.52631579])"
       ]
      }
     ],
     "prompt_number": 9
    },
    {
     "cell_type": "code",
     "collapsed": false,
     "input": [
      "cross_val_score(trees_tuned, census_data_vec, census_target_bin)"
     ],
     "language": "python",
     "metadata": {},
     "outputs": [
      {
       "metadata": {},
       "output_type": "pyout",
       "prompt_number": 13,
       "text": [
        "array([ 0.33223684,  0.75822368,  0.51644737])"
       ]
      }
     ],
     "prompt_number": 13
    },
    {
     "cell_type": "code",
     "collapsed": true,
     "input": [
      "cross_val_score(tree_pipe, census_data_vec, census_target_bin)"
     ],
     "language": "python",
     "metadata": {},
     "outputs": []
    },
    {
     "cell_type": "code",
     "collapsed": false,
     "input": [
      "cross_val_score(tree_pipe_tuned, census_data_vec, census_target_bin)"
     ],
     "language": "python",
     "metadata": {},
     "outputs": [
      {
       "metadata": {},
       "output_type": "pyout",
       "prompt_number": 15,
       "text": [
        "array([ 0.41118421,  0.70065789,  0.51973684])"
       ]
      }
     ],
     "prompt_number": 15
    },
    {
     "cell_type": "markdown",
     "metadata": {},
     "source": [
      "# Wrap up (1 min)\n",
      "\n",
      "In this segment, we walked through an example of classification with ensembles of random forests on census data. We used some PCA and then evaluated our models."
     ]
    },
    {
     "cell_type": "code",
     "collapsed": false,
     "input": [],
     "language": "python",
     "metadata": {},
     "outputs": []
    }
   ],
   "metadata": {}
  }
 ]
}