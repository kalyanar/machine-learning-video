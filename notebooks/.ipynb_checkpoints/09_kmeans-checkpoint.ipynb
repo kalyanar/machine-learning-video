{
 "metadata": {
  "name": "",
  "signature": "sha256:510ba10d7449c5abc25a4ed32272e3d1f7d7af548915401b3aacaa267a0e2176"
 },
 "nbformat": 3,
 "nbformat_minor": 0,
 "worksheets": [
  {
   "cells": [
    {
     "cell_type": "markdown",
     "metadata": {},
     "source": [
      "# Example of k-means"
     ]
    },
    {
     "cell_type": "code",
     "collapsed": false,
     "input": [
      "from sklearn.datasets import load_iris\n",
      "from sklearn.cluster import KMeans\n",
      "\n",
      "iris = load_iris()\n",
      "kmeans = KMeans()\n",
      "\n",
      "kmeans.fit(iris.data)"
     ],
     "language": "python",
     "metadata": {},
     "outputs": [
      {
       "metadata": {},
       "output_type": "pyout",
       "prompt_number": 1,
       "text": [
        "KMeans(copy_x=True, init='k-means++', max_iter=300, n_clusters=8, n_init=10,\n",
        "    n_jobs=1, precompute_distances=True, random_state=None, tol=0.0001,\n",
        "    verbose=0)"
       ]
      }
     ],
     "prompt_number": 1
    },
    {
     "cell_type": "markdown",
     "metadata": {},
     "source": [
      "# How to choose k"
     ]
    },
    {
     "cell_type": "code",
     "collapsed": false,
     "input": [
      "%pylab inline\n",
      "\n",
      "import numpy as np\n",
      "from scipy.spatial.distance import cdist, pdist\n",
      "from matplotlib import pyplot as plt\n",
      "\n",
      "# Determine your k range\n",
      "k_range = range(1,14)\n",
      "\n",
      "# Fit the kmeans model for each n_clusters = k\n",
      "k_means_var = [KMeans(n_clusters=k).fit(iris.data) for k in k_range]\n",
      "\n",
      "# Pull out the cluster centers for each model\n",
      "centroids = [X.cluster_centers_ for X in k_means_var]\n",
      "\n",
      "# Calculate the Euclidean distance from \n",
      "# each point to each cluster center\n",
      "k_euclid = [cdist(iris.data, cent, 'euclidean') for cent in centroids]\n",
      "dist = [np.min(ke,axis=1) for ke in k_euclid]\n",
      "\n",
      "# Total within-cluster sum of squares\n",
      "wcss = [sum(d**2) for d in dist]\n",
      "\n",
      "# The total sum of squares\n",
      "tss = sum(pdist(iris.data)**2)/iris.data.shape[0]\n",
      "\n",
      "# The between-cluster sum of squares\n",
      "bss = tss - wcss\n",
      "\n",
      "# elbow curve\n",
      "fig = plt.figure()\n",
      "ax = fig.add_subplot(111)\n",
      "ax.plot(k_range, bss/tss*100, 'b*-')\n",
      "ax.set_ylim((0,100))\n",
      "plt.grid(True)\n",
      "plt.xlabel('n_clusters')\n",
      "plt.ylabel('Percentage of variance explained')\n",
      "plt.title('Variance Explained vs. k')"
     ],
     "language": "python",
     "metadata": {},
     "outputs": [
      {
       "output_type": "stream",
       "stream": "stdout",
       "text": [
        "Populating the interactive namespace from numpy and matplotlib\n"
       ]
      },
      {
       "output_type": "stream",
       "stream": "stderr",
       "text": [
        "WARNING: pylab import has clobbered these variables: ['dist']\n",
        "`%matplotlib` prevents importing * from pylab and numpy\n"
       ]
      },
      {
       "metadata": {},
       "output_type": "pyout",
       "prompt_number": 4,
       "text": [
        "<matplotlib.text.Text at 0x1089a7f10>"
       ]
      },
      {
       "metadata": {},
       "output_type": "display_data",
       "png": "[encoded data removed]",
       "text": [
        "<matplotlib.figure.Figure at 0x104b7ea90>"
       ]
      }
     ],
     "prompt_number": 4
    },
    {
     "cell_type": "markdown",
     "metadata": {},
     "source": [
      "# Tuning k-means parameters"
     ]
    },
    {
     "cell_type": "code",
     "collapsed": false,
     "input": [
      "kmeans_tuned = KMeans(n_clusters=3)\n",
      "\n",
      "kmeans_tuned.fit(iris.data)"
     ],
     "language": "python",
     "metadata": {},
     "outputs": [
      {
       "metadata": {},
       "output_type": "pyout",
       "prompt_number": 6,
       "text": [
        "KMeans(copy_x=True, init='k-means++', max_iter=300, n_clusters=3, n_init=10,\n",
        "    n_jobs=1, precompute_distances=True, random_state=None, tol=0.0001,\n",
        "    verbose=0)"
       ]
      }
     ],
     "prompt_number": 6
    },
    {
     "cell_type": "markdown",
     "metadata": {},
     "source": [
      "# Evaluating our models"
     ]
    },
    {
     "cell_type": "code",
     "collapsed": false,
     "input": [
      "from sklearn.metrics import silhouette_score\n",
      "\n",
      "labels = kmeans.labels_\n",
      "silhouette_score(iris.data, labels, metric='euclidean')"
     ],
     "language": "python",
     "metadata": {},
     "outputs": [
      {
       "metadata": {},
       "output_type": "pyout",
       "prompt_number": 8,
       "text": [
        "0.35530857395239396"
       ]
      }
     ],
     "prompt_number": 8
    },
    {
     "cell_type": "code",
     "collapsed": false,
     "input": [
      "from sklearn.metrics import silhouette_score\n",
      "\n",
      "labels = kmeans_tuned.labels_\n",
      "silhouette_score(iris.data, labels, metric='euclidean')"
     ],
     "language": "python",
     "metadata": {},
     "outputs": [
      {
       "metadata": {},
       "output_type": "pyout",
       "prompt_number": 9,
       "text": [
        "0.55259194454997573"
       ]
      }
     ],
     "prompt_number": 9
    },
    {
     "cell_type": "code",
     "collapsed": false,
     "input": [],
     "language": "python",
     "metadata": {},
     "outputs": []
    }
   ],
   "metadata": {}
  }
 ]
}