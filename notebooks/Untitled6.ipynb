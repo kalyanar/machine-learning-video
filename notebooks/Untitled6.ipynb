{
 "metadata": {
  "name": "",
  "signature": "sha256:0d49ad473a9146a772b3a34533dc604be53123a887d810295a7ba6d4784ec0cd"
 },
 "nbformat": 3,
 "nbformat_minor": 0,
 "worksheets": [
  {
   "cells": [
    {
     "cell_type": "code",
     "collapsed": false,
     "input": [
      "from sklearn.datasets import load_digits\n",
      "from sklearn.ensemble import RandomForestClassifier\n",
      "from sklearn.cross_validation import train_test_split\n",
      "\n",
      "digits = load_digits()\n",
      "tree = RandomForestClassifier()\n",
      "\n",
      "x_train, x_test, y_train, y_test = train_test_split(digits.data, digits.target)\n",
      "\n",
      "tree.fit(x_train, y_train)\n",
      "predicted = tree.predict(x_test)\n",
      "tree.score(x_test, y_test)"
     ],
     "language": "python",
     "metadata": {},
     "outputs": [
      {
       "metadata": {},
       "output_type": "pyout",
       "prompt_number": 1,
       "text": [
        "0.93555555555555558"
       ]
      }
     ],
     "prompt_number": 1
    },
    {
     "cell_type": "code",
     "collapsed": false,
     "input": [
      "from sklearn.metrics import confusion_matrix\n",
      "\n",
      "confusion_matrix(y_test, predicted)"
     ],
     "language": "python",
     "metadata": {},
     "outputs": [
      {
       "metadata": {},
       "output_type": "pyout",
       "prompt_number": 2,
       "text": [
        "array([[29,  0,  0,  0,  0,  0,  0,  0,  0,  0],\n",
        "       [ 0, 44,  1,  0,  1,  0,  0,  0,  0,  0],\n",
        "       [ 0,  1, 43,  1,  0,  0,  0,  0,  0,  0],\n",
        "       [ 0,  0,  1, 46,  0,  0,  1,  0,  1,  2],\n",
        "       [ 0,  1,  0,  0, 40,  0,  0,  0,  1,  0],\n",
        "       [ 0,  2,  0,  0,  0, 52,  0,  0,  0,  1],\n",
        "       [ 0,  3,  0,  0,  0,  0, 46,  0,  0,  0],\n",
        "       [ 0,  0,  0,  0,  0,  0,  0, 39,  3,  2],\n",
        "       [ 0,  3,  0,  1,  0,  0,  0,  0, 36,  0],\n",
        "       [ 0,  0,  0,  1,  0,  0,  0,  0,  2, 46]])"
       ]
      }
     ],
     "prompt_number": 2
    },
    {
     "cell_type": "code",
     "collapsed": false,
     "input": [
      "from sklearn.metrics import precision_score\n",
      "\n",
      "precision_score(y_test, predicted)"
     ],
     "language": "python",
     "metadata": {},
     "outputs": [
      {
       "metadata": {},
       "output_type": "pyout",
       "prompt_number": 3,
       "text": [
        "0.93994786575754141"
       ]
      }
     ],
     "prompt_number": 3
    },
    {
     "cell_type": "code",
     "collapsed": false,
     "input": [
      "from sklearn.metrics import recall_score\n",
      "\n",
      "recall_score(y_test, predicted)"
     ],
     "language": "python",
     "metadata": {},
     "outputs": [
      {
       "metadata": {},
       "output_type": "pyout",
       "prompt_number": 4,
       "text": [
        "0.93555555555555558"
       ]
      }
     ],
     "prompt_number": 4
    },
    {
     "cell_type": "code",
     "collapsed": false,
     "input": [
      "from sklearn.metrics import classification_report\n",
      "\n",
      "print classification_report(y_test, predicted)"
     ],
     "language": "python",
     "metadata": {},
     "outputs": [
      {
       "output_type": "stream",
       "stream": "stdout",
       "text": [
        "             precision    recall  f1-score   support\n",
        "\n",
        "          0       1.00      1.00      1.00        29\n",
        "          1       0.81      0.96      0.88        46\n",
        "          2       0.96      0.96      0.96        45\n",
        "          3       0.94      0.90      0.92        51\n",
        "          4       0.98      0.95      0.96        42\n",
        "          5       1.00      0.95      0.97        55\n",
        "          6       0.98      0.94      0.96        49\n",
        "          7       1.00      0.89      0.94        44\n",
        "          8       0.84      0.90      0.87        40\n",
        "          9       0.90      0.94      0.92        49\n",
        "\n",
        "avg / total       0.94      0.94      0.94       450\n",
        "\n"
       ]
      }
     ],
     "prompt_number": 5
    },
    {
     "cell_type": "code",
     "collapsed": false,
     "input": [
      "from sklearn.datasets import load_boston\n",
      "from sklearn.linear_model import LinearRegression\n",
      "from sklearn.metrics import explained_variance_score\n",
      "\n",
      "boston = load_boston()\n",
      "lr = LinearRegression()\n",
      "\n",
      "x_train, x_test, y_train, y_test = train_test_split(boston.data, boston.target)\n",
      "\n",
      "lr.fit(x_train, y_train)\n",
      "lr_predicted = lr.predict(x_test)\n",
      "explained_variance_score(y_test, lr_predicted)"
     ],
     "language": "python",
     "metadata": {},
     "outputs": [
      {
       "metadata": {},
       "output_type": "pyout",
       "prompt_number": 6,
       "text": [
        "0.82826379433329966"
       ]
      }
     ],
     "prompt_number": 6
    },
    {
     "cell_type": "code",
     "collapsed": false,
     "input": [],
     "language": "python",
     "metadata": {},
     "outputs": []
    }
   ],
   "metadata": {}
  }
 ]
}