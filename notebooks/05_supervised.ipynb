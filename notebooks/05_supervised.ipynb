{
 "metadata": {
  "name": "",
  "signature": "sha256:aafa8be69ee24c83e6d69049e9caae7a9649a784d0ced4ed34b8025d1d415720"
 },
 "nbformat": 3,
 "nbformat_minor": 0,
 "worksheets": [
  {
   "cells": [
    {
     "cell_type": "markdown",
     "metadata": {},
     "source": [
      "# What is supervised learning? (8 min)\n",
      "\n",
      "- Again, labeled data/know what you\u2019re looking for\n",
      "- the task of inferring a function from training data \n",
      "- - that can be applied to new examples \n",
      "- - in other words, generalize to new examples\n",
      "    - train a model on labeled training data\n",
      "    - test the trained model on test data\n",
      "    - this to avoid overfitting, which we already discussed\n",
      "- Bias-variance trade-off\n",
      "    - Bias: consistently incorrect output on different training sets\n",
      "    - Variance: different outputs for different training sets\n",
      "    - Tradeoff: model must be flexible in the output (meaning not consistently wrong) but not so flexible that it has inconsistent output\n",
      "- you want to have \"enough\" data to train your model\n",
      "- The curse of dimensionality - intuition fails in high dimensions\n",
      "- why is machine learning important? it's everywhere!\n",
      "    - Email spam\n",
      "    - Netflix\n",
      "    - Handwriting analysis\n",
      "    - Applications in the sciences\n",
      "        - biology: using gene expression data to classify patients into clinical groups\n",
      "        - astronomy: used to distinguish stars from quasars and determine redshifts of distant galaxies\n",
      "    - Applications in finance\n",
      "        - stock market prediction using neural networks\n",
      "    - assess and predict the structual integrity of buildings and bridges\n",
      "- Different types of supervised learning: classification and regression\n",
      "\n",
      "# What are classification and regression? (12 min)\n",
      "\n",
      "- Classification\n",
      "    - most commonly known type of machine learning\n",
      "    - What problem does classification try to solve?\n",
      "        - classifying data into categories\n",
      "        - solves the problem of determining which category a piece of data belongs to\n",
      "    - Random forests, kNN, NB, SVM, etc etc\n",
      "        - going to talk about ensembles of random forests\n",
      "        - briefly talk about other kinds\n",
      "        - decision trees - predictive model that learns simple decision rules inferred from the features within a dataset\n",
      "            - ensembles of random forests construct multiple decision trees based on random segments of the data\n",
      "        - kNN - finds a predetermined number of \"neighbor\" samples *k* that are closest in distance to a starting data point and makes predictions based on the distances\n",
      "        - NB - based on Bayes' Theorem, assumes the features in your dataset are independent\n",
      "        - SVM - used for binary classification of both linear and nonlinear data\n",
      "        - LR - despite its name, a method of linear prediction for classification\n",
      "    - Which algorithm to use for classification?\n",
      "        - depends on your data\n",
      "        - something like SVM and kNN do better with strictly numerical input, whereas decision trees are better at heterogeneous data\n",
      "    - We'll focus on random forests\n",
      "- Regression\n",
      "    - used to predict continuous target variables\n",
      "    - Predict real numbers\n",
      "    - a statistical process for estimating this kind of relationship\n",
      "    - look at how the value of a dependent variable changes when the other independent variables change\n",
      "    - LS, lasso, ridge, etc\n",
      "    - We'll talk about those"
     ]
    },
    {
     "cell_type": "code",
     "collapsed": false,
     "input": [],
     "language": "python",
     "metadata": {},
     "outputs": []
    }
   ],
   "metadata": {}
  }
 ]
}