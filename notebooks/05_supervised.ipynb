{
 "metadata": {
  "name": "",
  "signature": "sha256:4090172f921553b1d0692f7416d2ab13adf244d4d176806fbd034d6840e372a4"
 },
 "nbformat": 3,
 "nbformat_minor": 0,
 "worksheets": [
  {
   "cells": [
    {
     "cell_type": "markdown",
     "metadata": {},
     "source": [
      "# What is supervised learning? (8 min)\n",
      "\n",
      "- Again, labeled data/know what you\u2019re looking for\n",
      "- the task of inferring a function from training data that can be applied to new examples -- in other words, generalize to new examples\n",
      "    - train a model on labeled training data\n",
      "    - test the trained model on test data\n",
      "    - this to avoid overfitting, which we already discussed\n",
      "- Bias-variance trade-off\n",
      "    - Bias: consistently incorrect output on different training sets\n",
      "    - Variance: different outputs for different training sets\n",
      "    - Tradeoff: model must be flexible in the output (meaning not consistently wrong) but not so flexible that it has inconsistent output\n",
      "- you want to have \"enough\" data to train your model\n",
      "- The curse of dimensionality - intuition fails in high dimensions\n",
      "- What are some real-world examples of supervised learning?\n",
      "    - Email spam\n",
      "    - Netflix\n",
      "    - Handwriting analysis\n",
      "    - Applications in the sciences\n",
      "    - Applications in finance\n",
      "- Different types of supervised learning\n",
      "\n",
      "# What are classification and regression? (12 min)\n",
      "\n",
      "- Classification\n",
      "    - What problem does classification try to solve?\n",
      "        - classifying data into categories\n",
      "    - Random forests, kNN, NB, SVM, etc etc\n",
      "        - going to talk about random forests\n",
      "        - briefly talk about other kinds\n",
      "        - kNN\n",
      "    - Which algorithm to use for classification?\n",
      "    - We'll focus on random forests\n",
      "- Regression\n",
      "    - What problem does regression try to solve?\n",
      "        - Predict real numbers\n",
      "    - LS, lasso, ridge, etc\n",
      "    - We'll talk about those"
     ]
    },
    {
     "cell_type": "code",
     "collapsed": false,
     "input": [],
     "language": "python",
     "metadata": {},
     "outputs": []
    }
   ],
   "metadata": {}
  }
 ]
}