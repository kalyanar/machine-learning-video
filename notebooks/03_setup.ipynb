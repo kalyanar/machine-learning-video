{
 "metadata": {
  "name": "",
  "signature": "sha256:e518c4dfc0b466b051d124b37c1f456324317ee4d4d8bee5225341f4f249cabe"
 },
 "nbformat": 3,
 "nbformat_minor": 0,
 "worksheets": [
  {
   "cells": [
    {
     "cell_type": "markdown",
     "metadata": {},
     "source": [
      "# Environment Setup (10 min)\n",
      "\n",
      "- Installing scikit-learn\n",
      "    - installing Anaconda\n",
      "        - Walk through installing on Mac\n",
      "    - Mention solutions for Windows and Linux\n",
      "- Using IPython notebook\n",
      "    - What is IPython notebook?\n",
      "        - an interactive computational environment\n",
      "        - can incorporate text, images, and code all at once\n",
      "    - What is it good for?\n",
      "        - Presentations, demonstrations, incorporating code, text, and visualizations all in one place\n",
      "    - Demonstrate how to launch it\n",
      "        - ipython notebook\n",
      "- Other tools\n",
      "    - everything comes with Anaconda\n",
      "    - NumPy\n",
      "        - scientific computing package\n",
      "    - Pandas\n",
      "        - data analysis and modeling library\n",
      "    - Matplotlib\n",
      "        - plotting library"
     ]
    }
   ],
   "metadata": {}
  }
 ]
}