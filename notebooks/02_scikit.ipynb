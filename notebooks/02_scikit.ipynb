{
 "metadata": {
  "name": "",
  "signature": "sha256:f31020ec5fb3c92266d3118a70c6907c7f80b5f27a74722b8b0422a919f69950"
 },
 "nbformat": 3,
 "nbformat_minor": 0,
 "worksheets": [
  {
   "cells": [
    {
     "cell_type": "markdown",
     "metadata": {},
     "source": [
      "# What is scikit-learn? (10 min)\n",
      "\n",
      "- Scikit-learn\n",
      "    - Machine learning module\n",
      "    - Built on NumPy and SciPy\n",
      "    - Open-source\n",
      "    - Constant development\n",
      "    - Built-in datasets\n",
      "    - Good resources for learning\n",
      "- Origins\n",
      "    - Started as a Google Summer of Code project 2007\n",
      "    - Taken up by a larger community in 2010\n",
      "    - Active development continues by an international community\n",
      "- Who uses scikit-learn?\n",
      "    - Lots of people! Scikit-learn in a favorite tool of scientific researchers: astronomy, biology, etc\n",
      "    - Spotify, OkCupid, Evernote, yhat, change.org are just some of the companies using scikit-learn in production\n",
      "- Basic learning and predicting process\n",
      "    - pretty easy to get started\n",
      "    - Model = EstimatorObject()\n",
      "    - Model.fit(dataset.data, dataset.target)\n",
      "        - dataset.data = dataset\n",
      "        - dataset.target = labels\n",
      "    - Model.predict(dataset.data)\n",
      "- Code samples"
     ]
    },
    {
     "cell_type": "code",
     "collapsed": false,
     "input": [
      "from sklearn.datasets import load_diabetes\n",
      "from sklearn.linear_model import LinearRegression\n",
      "from sklearn.cross_validation import train_test_split\n",
      "\n",
      "diabetes = load_diabetes()\n",
      "x_train, x_test, y_train, y_test = train_test_split(diabetes.data, diabetes.target)\n",
      "\n",
      "lr = LinearRegression()\n",
      "\n",
      "lr.fit(x_train, y_train)\n",
      "lr.predict(x_test)[:10]"
     ],
     "language": "python",
     "metadata": {},
     "outputs": [
      {
       "metadata": {},
       "output_type": "pyout",
       "prompt_number": 5,
       "text": [
        "array([ 195.19945152,  138.03805287,  118.16586105,  154.01824835,\n",
        "        183.97284636,   82.93319178,  196.7241285 ,  118.95747874,\n",
        "         52.37928898,  196.6958246 ])"
       ]
      }
     ],
     "prompt_number": 5
    }
   ],
   "metadata": {}
  }
 ]
}