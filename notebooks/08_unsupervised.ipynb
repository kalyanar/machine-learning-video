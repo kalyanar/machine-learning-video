{
 "metadata": {
  "name": "",
  "signature": "sha256:8266c2dc85a1e31e130e1eb3c16717d0f70381fa12984d0654972f1c84767835"
 },
 "nbformat": 3,
 "nbformat_minor": 0,
 "worksheets": [
  {
   "cells": [
    {
     "cell_type": "markdown",
     "metadata": {},
     "source": [
      "# What is unsupervised learning? (8 min)\n",
      "\n",
      "- Again, unlabeled data/ don't know what you\u2019re looking for\n",
      "- What does unsupervised learning have to offer?\n",
      "    - Pros and cons\n",
      "- When would you use it?\n",
      "- What are some real-world examples of unsupervised learning?\n",
      "- Different types of unsupervised learning\n",
      "\n",
      "# What are clustering and dimensionality reduction? (12 min)\n",
      "\n",
      "- Clustering\n",
      "    - What problem does clustering try to solve?\n",
      "    - k-means, others\n",
      "    - Which clustering algorithm to use?\n",
      "    - We'll focus on k-means\n",
      "- Dimensionality reduction\n",
      "    - What problem does dimensionality reduction try to solve?\n",
      "    - PCA, LDA (?)\n",
      "    - We'll focus on that"
     ]
    }
   ],
   "metadata": {}
  }
 ]
}