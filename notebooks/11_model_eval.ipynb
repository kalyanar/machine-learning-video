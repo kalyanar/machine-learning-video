{
 "metadata": {
  "name": "",
  "signature": "sha256:f4e7e6abf78c590eae786ed555b23fea0cd48723c3782349899d604cde0cc23f"
 },
 "nbformat": 3,
 "nbformat_minor": 0,
 "worksheets": [
  {
   "cells": [
    {
     "cell_type": "markdown",
     "metadata": {},
     "source": [
      "# Introduction to model evaluation (3 min)\n",
      "\n",
      "- we have our analyses and models. which one is the best? have to evaluate to find out\n",
      "- need to determine with what accuracy we're predicting/clustering/etc \n",
      "- Model evaluation as part of the machine learning process\n",
      "\n",
      "# Model evaluation methods (13 min)\n",
      "\n",
      "- Recap the methods already discussed. \n",
      "    - cross val\n",
      "    - silhouette score\n",
      "    - score method on models\n",
      "    - explained variance for PCA\n",
      "- Other methods\n",
      "    - confusion matrix"
     ]
    },
    {
     "cell_type": "code",
     "collapsed": false,
     "input": [
      "from sklearn.metrics import confusion_matrix\n",
      "from sklearn.datasets import load_iris\n",
      "from sklearn.tree import DecisionTreeClassifier\n",
      "from sklearn.cross_validation import train_test_split\n",
      "\n",
      "iris = load_iris()\n",
      "tree = DecisionTreeClassifier()\n",
      "\n",
      "iris_train, iris_test, label_train, label_test = train_test_split(iris.data, iris.target)\n",
      "\n",
      "tree.fit(iris_train, label_train)\n",
      "predicted = tree.predict(iris_test)\n",
      "\n",
      "confusion_matrix(label_test, predicted)"
     ],
     "language": "python",
     "metadata": {},
     "outputs": []
    },
    {
     "cell_type": "markdown",
     "metadata": {},
     "source": [
      "- precision"
     ]
    },
    {
     "cell_type": "code",
     "collapsed": false,
     "input": [
      "from sklearn.metrics import precision_score\n",
      "\n",
      "precision_score(label_test, predicted)"
     ],
     "language": "python",
     "metadata": {},
     "outputs": []
    },
    {
     "cell_type": "markdown",
     "metadata": {},
     "source": [
      "- recall"
     ]
    },
    {
     "cell_type": "code",
     "collapsed": false,
     "input": [
      "from sklearn.metrics import recall_score\n",
      "\n",
      "recall_score(label_test, predicted)"
     ],
     "language": "python",
     "metadata": {},
     "outputs": []
    },
    {
     "cell_type": "markdown",
     "metadata": {},
     "source": [
      "- classification_report"
     ]
    },
    {
     "cell_type": "code",
     "collapsed": false,
     "input": [
      "from sklearn.metrics import classification_report\n",
      "\n",
      "print classification_report(label_test, predicted)"
     ],
     "language": "python",
     "metadata": {},
     "outputs": []
    },
    {
     "cell_type": "markdown",
     "metadata": {},
     "source": [
      "- explained_variance_score"
     ]
    },
    {
     "cell_type": "code",
     "collapsed": false,
     "input": [
      "from sklearn.metrics import explained_variance_score\n",
      "from sklearn.datasets import load_boston\n",
      "from sklearn.linear_model import LinearRegression\n",
      "\n",
      "boston = load_boston()\n",
      "lr = LinearRegression()\n",
      "\n",
      "x_train, x_test, y_train, y_test = train_test_split(boston.data, boston.target)\n",
      "\n",
      "lr.fit(x_train, y_train)\n",
      "lr_predicted = lr.predict(x_test)\n",
      "\n",
      "explained_variance_score(y_test, lr_predicted) "
     ],
     "language": "python",
     "metadata": {},
     "outputs": []
    }
   ],
   "metadata": {}
  }
 ]
}