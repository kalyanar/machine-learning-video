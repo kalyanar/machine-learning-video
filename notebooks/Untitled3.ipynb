{
 "metadata": {
  "name": "",
  "signature": "sha256:1eb2531ac016ce712e4ebf679d8cc52da270c43e6fe44a98fd4542fde40e7522"
 },
 "nbformat": 3,
 "nbformat_minor": 0,
 "worksheets": [
  {
   "cells": [
    {
     "cell_type": "code",
     "collapsed": false,
     "input": [
      "from sklearn.datasets import load_boston\n",
      "from sklearn.linear_model import LinearRegression\n",
      "from sklearn.cross_validation import train_test_split\n",
      "\n",
      "boston = load_boston()\n",
      "lr = LinearRegression()\n",
      "\n",
      "x_train, x_test, y_train, y_test = train_test_split(boston.data, boston.target)\n",
      "\n",
      "lr.fit(x_train, y_train)\n",
      "lr.predict(x_test)[:10]"
     ],
     "language": "python",
     "metadata": {},
     "outputs": [
      {
       "metadata": {},
       "output_type": "pyout",
       "prompt_number": 2,
       "text": [
        "array([ 13.43715352,  19.74769893,  16.2060069 ,  22.00023856,\n",
        "        12.83695776,   8.96681443,  18.06454168,  12.35151948,\n",
        "         8.39066575,  15.53068967])"
       ]
      }
     ],
     "prompt_number": 2
    },
    {
     "cell_type": "code",
     "collapsed": false,
     "input": [
      "y_test[:10]"
     ],
     "language": "python",
     "metadata": {},
     "outputs": [
      {
       "metadata": {},
       "output_type": "pyout",
       "prompt_number": 3,
       "text": [
        "array([ 14. ,  20.5,  18.6,  25. ,  12.7,  13.2,  22.5,  10.5,   7. ,  18.4])"
       ]
      }
     ],
     "prompt_number": 3
    },
    {
     "cell_type": "code",
     "collapsed": false,
     "input": [
      "from sklearn.linear_model import Ridge\n",
      "\n",
      "lr_ridge = Ridge()\n",
      "lr_ridge.fit(x_train, y_train)\n",
      "lr_ridge.predict(x_test)[:10]"
     ],
     "language": "python",
     "metadata": {},
     "outputs": [
      {
       "metadata": {},
       "output_type": "pyout",
       "prompt_number": 4,
       "text": [
        "array([ 13.40008626,  19.53498813,  16.96514461,  22.50600234,\n",
        "        13.15280356,   9.04749718,  17.64711495,  13.10542601,\n",
        "         7.48730747,  15.70287321])"
       ]
      }
     ],
     "prompt_number": 4
    },
    {
     "cell_type": "code",
     "collapsed": false,
     "input": [
      "lr_ridge_param = Ridge(alpha=0.3, solver='lsqr')\n",
      "lr_ridge_param.fit(x_train, y_train)\n",
      "lr_ridge_param.predict(x_test)[:10]"
     ],
     "language": "python",
     "metadata": {},
     "outputs": [
      {
       "metadata": {},
       "output_type": "pyout",
       "prompt_number": 5,
       "text": [
        "array([ 10.27578758,  20.50723945,  19.59152206,  21.81935307,\n",
        "        13.91349351,   6.53433115,  17.50692357,  13.84443992,\n",
        "         6.28651235,  15.6459789 ])"
       ]
      }
     ],
     "prompt_number": 5
    },
    {
     "cell_type": "code",
     "collapsed": false,
     "input": [
      "from sklearn.linear_model import Lasso\n",
      "\n",
      "lr_lasso = Lasso()\n",
      "lr_lasso.fit(x_train, y_train)\n",
      "lr_lasso.predict(x_test)[:10]"
     ],
     "language": "python",
     "metadata": {},
     "outputs": [
      {
       "metadata": {},
       "output_type": "pyout",
       "prompt_number": 6,
       "text": [
        "array([ 11.68592604,  22.66217868,  21.77557249,  23.62146723,\n",
        "        14.19115416,   8.00392025,  18.16871433,  13.91274519,\n",
        "         7.50791673,  17.74011557])"
       ]
      }
     ],
     "prompt_number": 6
    },
    {
     "cell_type": "code",
     "collapsed": false,
     "input": [
      "lr_lasso_param = Lasso(alpha=0.1, normalize=True)\n",
      "lr_lasso_param.fit(x_train, y_train)\n",
      "lr_lasso_param.predict(x_test)[:10]"
     ],
     "language": "python",
     "metadata": {},
     "outputs": [
      {
       "metadata": {},
       "output_type": "pyout",
       "prompt_number": 10,
       "text": [
        "array([ 16.23342198,  23.23099843,  23.60597355,  24.77183333,\n",
        "        18.29118199,  14.14077666,  18.74115108,  16.50526184,\n",
        "        14.621718  ,  19.25362407])"
       ]
      }
     ],
     "prompt_number": 10
    },
    {
     "cell_type": "code",
     "collapsed": false,
     "input": [
      "from sklearn.cross_validation import cross_val_score\n",
      "\n",
      "cross_val_score(lr, boston.data, boston.target)"
     ],
     "language": "python",
     "metadata": {},
     "outputs": [
      {
       "metadata": {},
       "output_type": "pyout",
       "prompt_number": 19,
       "text": [
        "array([ 0.5828011 ,  0.53193819, -5.85104986])"
       ]
      }
     ],
     "prompt_number": 19
    },
    {
     "cell_type": "code",
     "collapsed": false,
     "input": [
      "cross_val_score(lr_ridge, boston.data, boston.target)"
     ],
     "language": "python",
     "metadata": {},
     "outputs": [
      {
       "metadata": {},
       "output_type": "pyout",
       "prompt_number": 20,
       "text": [
        "array([ 0.65296222,  0.55256058, -3.20758034])"
       ]
      }
     ],
     "prompt_number": 20
    },
    {
     "cell_type": "code",
     "collapsed": false,
     "input": [
      "cross_val_score(lr_ridge_param, boston.data, boston.target)"
     ],
     "language": "python",
     "metadata": {},
     "outputs": [
      {
       "metadata": {},
       "output_type": "pyout",
       "prompt_number": 21,
       "text": [
        "array([ 0.55540358,  0.43091991, -0.62510252])"
       ]
      }
     ],
     "prompt_number": 21
    },
    {
     "cell_type": "code",
     "collapsed": false,
     "input": [
      "cross_val_score(lr_lasso, boston.data, boston.target)"
     ],
     "language": "python",
     "metadata": {},
     "outputs": [
      {
       "metadata": {},
       "output_type": "pyout",
       "prompt_number": 22,
       "text": [
        "array([ 0.56764615,  0.22238972,  0.01684595])"
       ]
      }
     ],
     "prompt_number": 22
    },
    {
     "cell_type": "code",
     "collapsed": false,
     "input": [
      "cross_val_score(lr_lasso_param, boston.data, boston.target)"
     ],
     "language": "python",
     "metadata": {},
     "outputs": [
      {
       "metadata": {},
       "output_type": "pyout",
       "prompt_number": 23,
       "text": [
        "array([ 0.65513153, -0.16181397, -0.57433981])"
       ]
      }
     ],
     "prompt_number": 23
    },
    {
     "cell_type": "code",
     "collapsed": false,
     "input": [],
     "language": "python",
     "metadata": {},
     "outputs": []
    }
   ],
   "metadata": {}
  }
 ]
}