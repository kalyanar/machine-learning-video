{
 "metadata": {
  "name": "",
  "signature": "sha256:a1781b495858d46b5cd4352e5533f236155d8fe130773e92782131a7b681d121"
 },
 "nbformat": 3,
 "nbformat_minor": 0,
 "worksheets": [
  {
   "cells": [
    {
     "cell_type": "markdown",
     "metadata": {},
     "source": [
      "# Data Preprocessing (10 minutes)\n",
      "\n",
      "- Importance of data preprocessing\n",
      "    - Important to understand your dataset before you start working with it\n",
      "    - What kind of data are you working with?\n",
      "    - Scikit-learn takes in continuous data only!\n",
      "- Loading data within scikit-learn\n",
      "    - Built-in datasets\n",
      "    - iris, boston, handwrittten digits"
     ]
    },
    {
     "cell_type": "code",
     "collapsed": false,
     "input": [
      "from sklearn.datasets import load_boston\n",
      "\n",
      "boston = load_boston()\n",
      "print boston['DESCR']"
     ],
     "language": "python",
     "metadata": {},
     "outputs": []
    },
    {
     "cell_type": "markdown",
     "metadata": {},
     "source": [
      "- ml-data\n",
      "    - public repository for machine learning data\n",
      "    - directly download datasets from the repository"
     ]
    },
    {
     "cell_type": "code",
     "collapsed": false,
     "input": [
      "from sklearn.datasets import fetch_mldata\n",
      "\n",
      "snowfall = fetch_mldata('whistler daily snowfall')\n",
      "snowfall.data.shape"
     ],
     "language": "python",
     "metadata": {},
     "outputs": []
    },
    {
     "cell_type": "markdown",
     "metadata": {},
     "source": [
      "- 20 newsgroups\n",
      "    - comprises around 18000 newsgroups posts on 20 topics split into training and test sets"
     ]
    },
    {
     "cell_type": "code",
     "collapsed": false,
     "input": [
      "from sklearn.datasets import fetch_20newsgroups\n",
      "newsgroups_test = fetch_20newsgroups(subset='test')\n",
      "newsgroups_test.target_names"
     ],
     "language": "python",
     "metadata": {},
     "outputs": []
    },
    {
     "cell_type": "markdown",
     "metadata": {},
     "source": [
      "- Loading data from outside scikit-learn\n",
      "    - NumPy"
     ]
    },
    {
     "cell_type": "code",
     "collapsed": false,
     "input": [
      "import numpy as np\n",
      "\n",
      "glass_data = np.loadtxt('../data/glass_data.csv', delimiter=',')\n",
      "glass_target = np.loadtxt('../data/glass_target.csv')\n",
      "glass_data[0:5], glass_target[0:5]"
     ],
     "language": "python",
     "metadata": {},
     "outputs": []
    },
    {
     "cell_type": "markdown",
     "metadata": {},
     "source": [
      "- From Pandas\n",
      "    - dataframe is easy to use"
     ]
    },
    {
     "cell_type": "code",
     "collapsed": false,
     "input": [
      "# Example for classification\n",
      "import pandas as pd\n",
      "from sklearn.cross_validation import train_test_split\n",
      "\n",
      "wine_data = pd.read_csv('../data/wine_data.csv')\n",
      "wine_labels = pd.read_csv('../data/wine_labels.csv', squeeze=True)\n",
      "\n",
      "wine_data_train, wine_data_test, wine_labels_train, wine_labels_test = train_test_split(wine_data, wine_labels)\n",
      "wine_data_train[10], wine_labels_train[10]"
     ],
     "language": "python",
     "metadata": {},
     "outputs": []
    },
    {
     "cell_type": "markdown",
     "metadata": {},
     "source": [
      "- From file"
     ]
    },
    {
     "cell_type": "code",
     "collapsed": false,
     "input": [
      "import csv\n",
      "\n",
      "car_data = list(csv.DictReader(open('../data/cardata.csv', 'rU')))\n",
      "car_target = list(csv.reader(open('../data/cartarget.csv', 'rU')))\n",
      "car_data[10], car_target[10]"
     ],
     "language": "python",
     "metadata": {},
     "outputs": []
    },
    {
     "cell_type": "markdown",
     "metadata": {},
     "source": [
      "- Preprocessing strategies\n",
      "    - Encode categorical features and labels\n",
      "        - How does it work?\n",
      "            - Arrays of 1s and 0s based on position\n",
      "            - ex. (slide)"
     ]
    },
    {
     "cell_type": "code",
     "collapsed": false,
     "input": [
      "from sklearn.feature_extraction import DictVectorizer\n",
      "\n",
      "vec = DictVectorizer()\n",
      "car_data_vec= vec.fit_transform(car_data).toarray()\n",
      "car_data_vec[10]"
     ],
     "language": "python",
     "metadata": {},
     "outputs": []
    },
    {
     "cell_type": "markdown",
     "metadata": {},
     "source": [
      "- You can also use inverse_transform to unencode the data"
     ]
    },
    {
     "cell_type": "code",
     "collapsed": false,
     "input": [
      "vec.inverse_transform(car_data_vec[10])"
     ],
     "language": "python",
     "metadata": {},
     "outputs": []
    },
    {
     "cell_type": "code",
     "collapsed": false,
     "input": [
      "from sklearn.feature_extraction import DictVectorizer\n",
      "\n",
      "dict_vec = DictVectorizer()\n",
      "restaurants = [{'cuisine': 'Italian', 'distance': 'close', 'rating': 'great'},\n",
      "               {'cuisine': 'French', 'distance': 'far', 'rating': 'good'},\n",
      "               {'cuisine': 'Japanese', 'distance': 'far', 'rating': 'bad'},\n",
      "               {'cuisine': 'Italian', 'distance': 'close', 'rating': 'mediocre'}]\n",
      "\n",
      "dict_vec.fit_transform(restaurants).toarray()"
     ],
     "language": "python",
     "metadata": {},
     "outputs": []
    },
    {
     "cell_type": "code",
     "collapsed": false,
     "input": [
      "from sklearn.preprocessing import LabelBinarizer\n",
      "\n",
      "rating = ['bad', 'good', 'great']\n",
      "binarize = LabelBinarizer()\n",
      "binarize.fit_transform(rating)"
     ],
     "language": "python",
     "metadata": {},
     "outputs": []
    }
   ],
   "metadata": {}
  }
 ]
}