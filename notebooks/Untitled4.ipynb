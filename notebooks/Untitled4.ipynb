{
 "metadata": {
  "name": "",
  "signature": "sha256:11275ae22fda769b4b4f22f28ced8c114e9466cb2998df6ddf45c1dae5d4ef34"
 },
 "nbformat": 3,
 "nbformat_minor": 0,
 "worksheets": [
  {
   "cells": [
    {
     "cell_type": "code",
     "collapsed": false,
     "input": [
      "from sklearn.datasets import load_iris\n",
      "from sklearn.cluster import KMeans\n",
      "\n",
      "iris = load_iris()\n",
      "kmeans = KMeans()\n",
      "\n",
      "kmeans.fit_predict(iris.data)"
     ],
     "language": "python",
     "metadata": {},
     "outputs": [
      {
       "metadata": {},
       "output_type": "pyout",
       "prompt_number": 1,
       "text": [
        "array([1, 7, 7, 7, 1, 1, 7, 1, 7, 7, 1, 7, 7, 7, 1, 1, 1, 1, 1, 1, 1, 1, 7,\n",
        "       1, 7, 7, 1, 1, 1, 7, 7, 1, 1, 1, 7, 7, 1, 7, 7, 1, 1, 7, 7, 1, 1, 7,\n",
        "       1, 7, 1, 7, 4, 4, 4, 3, 4, 3, 4, 5, 4, 3, 5, 3, 3, 4, 3, 4, 3, 3, 4,\n",
        "       3, 2, 3, 2, 4, 4, 4, 4, 4, 4, 3, 3, 3, 3, 2, 3, 4, 4, 4, 3, 3, 3, 4,\n",
        "       3, 5, 3, 3, 3, 4, 5, 3, 6, 2, 0, 6, 6, 0, 3, 0, 6, 0, 6, 2, 6, 2, 2,\n",
        "       6, 6, 0, 0, 2, 6, 2, 0, 2, 6, 0, 2, 2, 6, 0, 0, 0, 6, 2, 2, 0, 6, 6,\n",
        "       2, 6, 6, 6, 2, 6, 6, 6, 2, 6, 6, 2], dtype=int32)"
       ]
      }
     ],
     "prompt_number": 1
    },
    {
     "cell_type": "code",
     "collapsed": false,
     "input": [
      "kmeans.fit_transform(iris.data)[0]"
     ],
     "language": "python",
     "metadata": {},
     "outputs": [
      {
       "metadata": {},
       "output_type": "pyout",
       "prompt_number": 3,
       "text": [
        "array([ 3.09071464,  0.28166349,  4.85362658,  4.14144589,  2.48070102,\n",
        "        3.7126574 ,  0.52495039,  5.87778019])"
       ]
      }
     ],
     "prompt_number": 3
    },
    {
     "cell_type": "code",
     "collapsed": false,
     "input": [
      "%pylab inline\n",
      "\n",
      "import numpy as np\n",
      "from scipy.spatial.distance import cdist, pdist\n",
      "from matplotlib import pyplot as plt\n",
      "\n",
      "k_range = range(1, 14)\n",
      "kmeans_var = [KMeans(n_clusters=k).fit(iris.data) for k in k_range]\n",
      "\n",
      "centers = [x.cluster_centers_ for x in kmeans_var]\n",
      "\n",
      "k_euclid = [cdist(iris.data, cent, 'euclidean') for cent in centers]\n",
      "dist = [np.min(ke, axis=1) for ke in k_euclid]\n",
      "\n",
      "wcss = [sum(d**2) for d in dist]\n",
      "tss = sum(pdist(iris.data)**2)/iris.data.shape[0]\n",
      "\n",
      "bss = tss - wcss\n",
      "\n",
      "fig = plt.figure()\n",
      "ax = fig.add_subplot(111)\n",
      "ax.plot(k_range, bss/tss*100, 'b*-')\n",
      "ax.set_ylim((0,100))\n",
      "plt.grid(True)\n",
      "plt.xlabel('n_clusters')\n",
      "plt.ylabel('% of variance explained')"
     ],
     "language": "python",
     "metadata": {},
     "outputs": [
      {
       "output_type": "stream",
       "stream": "stdout",
       "text": [
        "Populating the interactive namespace from numpy and matplotlib\n"
       ]
      },
      {
       "metadata": {},
       "output_type": "pyout",
       "prompt_number": 5,
       "text": [
        "<matplotlib.text.Text at 0x108b11890>"
       ]
      },
      {
       "metadata": {},
       "output_type": "display_data",
       "png": "[encoded data removed]",
       "text": [
        "<matplotlib.figure.Figure at 0x105a88a10>"
       ]
      }
     ],
     "prompt_number": 5
    },
    {
     "cell_type": "code",
     "collapsed": false,
     "input": [
      "kmeans_tuned = KMeans(n_clusters=3, max_iter=50, init='random')\n",
      "\n",
      "kmeans_tuned.fit_predict(iris.data)"
     ],
     "language": "python",
     "metadata": {},
     "outputs": [
      {
       "metadata": {},
       "output_type": "pyout",
       "prompt_number": 6,
       "text": [
        "array([0, 0, 0, 0, 0, 0, 0, 0, 0, 0, 0, 0, 0, 0, 0, 0, 0, 0, 0, 0, 0, 0, 0,\n",
        "       0, 0, 0, 0, 0, 0, 0, 0, 0, 0, 0, 0, 0, 0, 0, 0, 0, 0, 0, 0, 0, 0, 0,\n",
        "       0, 0, 0, 0, 1, 1, 2, 1, 1, 1, 1, 1, 1, 1, 1, 1, 1, 1, 1, 1, 1, 1, 1,\n",
        "       1, 1, 1, 1, 1, 1, 1, 1, 2, 1, 1, 1, 1, 1, 1, 1, 1, 1, 1, 1, 1, 1, 1,\n",
        "       1, 1, 1, 1, 1, 1, 1, 1, 2, 1, 2, 2, 2, 2, 1, 2, 2, 2, 2, 2, 2, 1, 1,\n",
        "       2, 2, 2, 2, 1, 2, 1, 2, 1, 2, 2, 1, 1, 2, 2, 2, 2, 2, 1, 2, 2, 2, 2,\n",
        "       1, 2, 2, 2, 1, 2, 2, 2, 1, 2, 2, 1], dtype=int32)"
       ]
      }
     ],
     "prompt_number": 6
    },
    {
     "cell_type": "code",
     "collapsed": false,
     "input": [
      "kmeans_tuned_2 = KMeans(n_clusters=6, max_iter=100)\n",
      "\n",
      "kmeans_tuned_2.fit_predict(iris.data)"
     ],
     "language": "python",
     "metadata": {},
     "outputs": [
      {
       "metadata": {},
       "output_type": "pyout",
       "prompt_number": 7,
       "text": [
        "array([5, 0, 0, 0, 5, 5, 0, 5, 0, 0, 5, 0, 0, 0, 5, 5, 5, 5, 5, 5, 5, 5, 0,\n",
        "       5, 0, 0, 5, 5, 5, 0, 0, 5, 5, 5, 0, 0, 5, 0, 0, 5, 5, 0, 0, 5, 5, 0,\n",
        "       5, 0, 5, 0, 3, 3, 3, 2, 3, 2, 3, 2, 3, 2, 2, 2, 2, 3, 2, 3, 2, 2, 3,\n",
        "       2, 3, 2, 3, 3, 3, 3, 3, 3, 3, 2, 2, 2, 2, 3, 2, 3, 3, 3, 2, 2, 2, 3,\n",
        "       2, 2, 2, 2, 2, 3, 2, 2, 1, 3, 1, 1, 1, 4, 2, 4, 1, 4, 1, 1, 1, 3, 3,\n",
        "       1, 1, 4, 4, 3, 1, 3, 4, 3, 1, 4, 3, 3, 1, 1, 4, 4, 1, 3, 3, 4, 1, 1,\n",
        "       3, 1, 1, 1, 3, 1, 1, 1, 3, 1, 1, 3], dtype=int32)"
       ]
      }
     ],
     "prompt_number": 7
    },
    {
     "cell_type": "code",
     "collapsed": false,
     "input": [
      "from sklearn.metrics import silhouette_score\n",
      "\n",
      "labels = kmeans.labels_\n",
      "silhouette_score(iris.data, labels, metric='euclidean')"
     ],
     "language": "python",
     "metadata": {},
     "outputs": [
      {
       "metadata": {},
       "output_type": "pyout",
       "prompt_number": 8,
       "text": [
        "0.3494431900775673"
       ]
      }
     ],
     "prompt_number": 8
    },
    {
     "cell_type": "code",
     "collapsed": false,
     "input": [
      "labels_tuned = kmeans_tuned.labels_\n",
      "silhouette_score(iris.data, labels_tuned, metric='euclidean')"
     ],
     "language": "python",
     "metadata": {},
     "outputs": [
      {
       "metadata": {},
       "output_type": "pyout",
       "prompt_number": 10,
       "text": [
        "0.55259194452136773"
       ]
      }
     ],
     "prompt_number": 10
    },
    {
     "cell_type": "code",
     "collapsed": false,
     "input": [
      "labels_tuned_2 = kmeans_tuned_2.labels_\n",
      "silhouette_score(iris.data, labels_tuned_2, metric='euclidean')"
     ],
     "language": "python",
     "metadata": {},
     "outputs": [
      {
       "metadata": {},
       "output_type": "pyout",
       "prompt_number": 11,
       "text": [
        "0.37208208501849627"
       ]
      }
     ],
     "prompt_number": 11
    },
    {
     "cell_type": "code",
     "collapsed": false,
     "input": [],
     "language": "python",
     "metadata": {},
     "outputs": []
    }
   ],
   "metadata": {}
  }
 ]
}